{
  "nbformat": 4,
  "nbformat_minor": 0,
  "metadata": {
    "colab": {
      "provenance": [],
      "authorship_tag": "ABX9TyNSIQMbg/oewCevELTRj4l8",
      "include_colab_link": true
    },
    "kernelspec": {
      "name": "python3",
      "display_name": "Python 3"
    },
    "language_info": {
      "name": "python"
    }
  },
  "cells": [
    {
      "cell_type": "markdown",
      "metadata": {
        "id": "view-in-github",
        "colab_type": "text"
      },
      "source": [
        "<a href=\"https://colab.research.google.com/github/flyingsquirrel321/WoTech/blob/main/Numpy_2_14_09_2024.ipynb\" target=\"_parent\"><img src=\"https://colab.research.google.com/assets/colab-badge.svg\" alt=\"Open In Colab\"/></a>"
      ]
    },
    {
      "cell_type": "code",
      "execution_count": 1,
      "metadata": {
        "id": "z8oQCZFZn0kU"
      },
      "outputs": [],
      "source": [
        "import numpy as np"
      ]
    },
    {
      "cell_type": "code",
      "source": [
        "coint = [\"heads\", \"tails\"]"
      ],
      "metadata": {
        "id": "5F2-Dy1tn6qQ"
      },
      "execution_count": 2,
      "outputs": []
    },
    {
      "cell_type": "code",
      "source": [
        "number_of_throws = 100000"
      ],
      "metadata": {
        "id": "y4evTSddn_WF"
      },
      "execution_count": 20,
      "outputs": []
    },
    {
      "cell_type": "code",
      "source": [
        "throws = np.random.choice(coint, number_of_throws)\n",
        "throws"
      ],
      "metadata": {
        "collapsed": true,
        "id": "Fz9H4rP0oDgl"
      },
      "execution_count": null,
      "outputs": []
    },
    {
      "cell_type": "code",
      "source": [
        "np.sum(throws==\"heads\")"
      ],
      "metadata": {
        "colab": {
          "base_uri": "https://localhost:8080/"
        },
        "id": "tfkPgW6qoZrr",
        "outputId": "079f8641-197c-4eb6-bbed-1ba1480b4f0d"
      },
      "execution_count": 9,
      "outputs": [
        {
          "output_type": "execute_result",
          "data": {
            "text/plain": [
              "503"
            ]
          },
          "metadata": {},
          "execution_count": 9
        }
      ]
    },
    {
      "cell_type": "code",
      "source": [
        "np.sum(throws==\"tails\")"
      ],
      "metadata": {
        "colab": {
          "base_uri": "https://localhost:8080/"
        },
        "id": "yGyB056LokXS",
        "outputId": "b558fffc-02c6-4a28-c3c8-856e4215abf5"
      },
      "execution_count": 10,
      "outputs": [
        {
          "output_type": "execute_result",
          "data": {
            "text/plain": [
              "497"
            ]
          },
          "metadata": {},
          "execution_count": 10
        }
      ]
    },
    {
      "cell_type": "code",
      "source": [
        "#probability\n",
        "\n",
        "probabilities =[0.3, 0.7]"
      ],
      "metadata": {
        "id": "mlbMWRNRpCUO"
      },
      "execution_count": 23,
      "outputs": []
    },
    {
      "cell_type": "code",
      "source": [
        "throws_with_p = np.random.choice(coint, number_of_throws, p = probabilities)\n",
        "throws_with_p"
      ],
      "metadata": {
        "colab": {
          "base_uri": "https://localhost:8080/"
        },
        "id": "8Pvv570EpMx9",
        "outputId": "c224e12c-f48f-4b91-caff-010862a57f14"
      },
      "execution_count": 24,
      "outputs": [
        {
          "output_type": "execute_result",
          "data": {
            "text/plain": [
              "array(['heads', 'heads', 'tails', ..., 'heads', 'tails', 'tails'],\n",
              "      dtype='<U5')"
            ]
          },
          "metadata": {},
          "execution_count": 24
        }
      ]
    },
    {
      "cell_type": "code",
      "source": [
        "print(np.sum(throws_with_p==\"heads\"))\n",
        "print(np.sum(throws_with_p==\"tails\"))"
      ],
      "metadata": {
        "colab": {
          "base_uri": "https://localhost:8080/"
        },
        "id": "_p4fYP5Lprj8",
        "outputId": "83b7fa2b-2199-4b55-fd98-c628b1b4176e"
      },
      "execution_count": 25,
      "outputs": [
        {
          "output_type": "stream",
          "name": "stdout",
          "text": [
            "29707\n",
            "70293\n"
          ]
        }
      ]
    },
    {
      "cell_type": "markdown",
      "source": [
        "# COIN LANDING ON A SIDE"
      ],
      "metadata": {
        "id": "X7zVsODpqqKY"
      }
    },
    {
      "cell_type": "code",
      "source": [
        "import numpy as np\n",
        "\n",
        "coin = ['heads', 'tails', 'side']\n",
        "\n",
        "probabilities = [0.3,0.65,0.05]\n",
        "\n",
        "number_of_throws = 100000\n",
        "\n",
        "throws = np.random.choice(coin, number_of_throws, p = probabilities)\n",
        "\n",
        "print(f\"heads: {np.sum(throws == 'heads')}\")\n",
        "print(f\"tails: {np.sum(throws == 'tails')}\")\n",
        "print(f\"side: {np.sum(throws == 'side')}\")"
      ],
      "metadata": {
        "colab": {
          "base_uri": "https://localhost:8080/"
        },
        "id": "ynEvlbLsquX8",
        "outputId": "0d315161-3e33-40dc-8995-e5afc6f2f6e8"
      },
      "execution_count": 38,
      "outputs": [
        {
          "output_type": "stream",
          "name": "stdout",
          "text": [
            "heads: 30045\n",
            "tails: 64915\n",
            "side: 5040\n"
          ]
        }
      ]
    },
    {
      "cell_type": "code",
      "source": [
        "unique, counts = np.unique(throws, return_counts=True)"
      ],
      "metadata": {
        "id": "cSdjltjJti8M"
      },
      "execution_count": 41,
      "outputs": []
    },
    {
      "cell_type": "code",
      "source": [
        "print(counts)"
      ],
      "metadata": {
        "colab": {
          "base_uri": "https://localhost:8080/"
        },
        "id": "5lghE5eRtrtC",
        "outputId": "78ae7e70-9d38-430c-87ac-79595e11906f"
      },
      "execution_count": 42,
      "outputs": [
        {
          "output_type": "stream",
          "name": "stdout",
          "text": [
            "[30045  5040 64915]\n"
          ]
        }
      ]
    },
    {
      "cell_type": "code",
      "source": [
        "import matplotlib.pyplot as plt\n",
        "plt.bar(unique, counts)"
      ],
      "metadata": {
        "colab": {
          "base_uri": "https://localhost:8080/",
          "height": 448
        },
        "id": "nqrPAaIktvpW",
        "outputId": "4a8e6187-9b05-4994-d97b-9029b01b60ef"
      },
      "execution_count": 45,
      "outputs": [
        {
          "output_type": "execute_result",
          "data": {
            "text/plain": [
              "<BarContainer object of 3 artists>"
            ]
          },
          "metadata": {},
          "execution_count": 45
        },
        {
          "output_type": "display_data",
          "data": {
            "text/plain": [
              "<Figure size 640x480 with 1 Axes>"
            ],
            "image/png": "[encoded data removed]"
          },
          "metadata": {}
        }
      ]
    },
    {
      "cell_type": "code",
      "source": [
        "#Roberta's code\n",
        "\n",
        "import numpy as np\n",
        "coin = ['heads', 'tails', 'side']\n",
        "\n",
        "probabilities = [0.49165, 0.49165, 0.0167] #the probability of the coin landing on a side is 0.0167\n",
        "\n",
        "number_of_throws = 100000\n",
        "\n",
        "throws = np.random.choice(coin, number_of_throws, p =probabilities)\n",
        "\n",
        "print(f\"heads: {np.sum(throws == 'heads')}\")\n",
        "print(f\"tails: {np.sum(throws == 'tails')}\")\n",
        "print(f\"side: {np.sum(throws == 'side')}\")\n",
        "unique, counts = np.unique(throws, return_counts=True )\n",
        "import matplotlib.pyplot as plt\n",
        "plt.bar(unique, counts)\n",
        "\n",
        "import matplotlib.pyplot as plt\n",
        "\n",
        "total_heads_side = np.sum(throws == \"heads\")\n",
        "total_tails_side = np.sum(throws == \"tails\")\n",
        "total_side = np.sum(throws == \"side\")\n",
        "\n",
        "plt.bar(coin, [total_heads_side, total_tails_side, total_side], color=\"teal\")\n",
        "plt.title(\"Coin Toss with Side landing\")\n",
        "plt.xlabel(\"Landing result\")\n",
        "plt.ylabel(\"Frequency\")\n",
        "plt.show()\n"
      ],
      "metadata": {
        "colab": {
          "base_uri": "https://localhost:8080/",
          "height": 527
        },
        "id": "DPoOnQO3u8ZV",
        "outputId": "d60c9646-7340-4230-96f5-e24393159161"
      },
      "execution_count": 46,
      "outputs": [
        {
          "output_type": "stream",
          "name": "stdout",
          "text": [
            "heads: 48941\n",
            "tails: 49361\n",
            "side: 1698\n"
          ]
        },
        {
          "output_type": "display_data",
          "data": {
            "text/plain": [
              "<Figure size 640x480 with 1 Axes>"
            ],
            "image/png": "[encoded data removed]"
          },
          "metadata": {}
        }
      ]
    },
    {
      "cell_type": "markdown",
      "source": [
        "# HISTOGRAM"
      ],
      "metadata": {
        "id": "r4DjBE6avMaT"
      }
    },
    {
      "cell_type": "code",
      "source": [
        "np.random.randint(1,100)\n",
        "\n",
        "np.random.randint(1,100, 10)"
      ],
      "metadata": {
        "colab": {
          "base_uri": "https://localhost:8080/"
        },
        "id": "4V6oM_mZvN-6",
        "outputId": "7960cefb-14ef-458c-d831-309c7ef4572f"
      },
      "execution_count": 48,
      "outputs": [
        {
          "output_type": "execute_result",
          "data": {
            "text/plain": [
              "array([81, 48, 27, 41, 83, 21, 65, 28, 95, 44])"
            ]
          },
          "metadata": {},
          "execution_count": 48
        }
      ]
    },
    {
      "cell_type": "code",
      "source": [
        "numbers = np.random.randint(1,101, 100000)    #numbers from 1(including) to 101(excluding)"
      ],
      "metadata": {
        "id": "8SKikd9bvfbw"
      },
      "execution_count": 52,
      "outputs": []
    },
    {
      "cell_type": "code",
      "source": [
        "plt.hist(numbers, bins = 10, color= 'skyblue', edgecolor= 'black', alpha=0.7)\n",
        "plt.title('Frequency of random integers from [1, 100]')"
      ],
      "metadata": {
        "colab": {
          "base_uri": "https://localhost:8080/",
          "height": 470
        },
        "id": "FZSJQP0rvxqW",
        "outputId": "b6c04398-221e-4c75-a0e7-18b967c457ef"
      },
      "execution_count": 55,
      "outputs": [
        {
          "output_type": "execute_result",
          "data": {
            "text/plain": [
              "Text(0.5, 1.0, 'Frequency of random integers from [1, 100]')"
            ]
          },
          "metadata": {},
          "execution_count": 55
        },
        {
          "output_type": "display_data",
          "data": {
            "text/plain": [
              "<Figure size 640x480 with 1 Axes>"
            ],
            "image/png": "[encoded data removed]"
          },
          "metadata": {}
        }
      ]
    }
  ]
}
